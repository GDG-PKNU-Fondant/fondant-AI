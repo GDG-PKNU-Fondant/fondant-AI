{
 "cells": [
  {
   "cell_type": "code",
   "execution_count": null,
   "id": "529566f8-3857-45e6-9025-6cf6e9f6ace8",
   "metadata": {},
   "outputs": [
    {
     "ename": "",
     "evalue": "",
     "output_type": "error",
     "traceback": [
      "\u001b[1;31m'Python 3.13.0'(으)로 셀을 실행하려면 ipykernel 패키지가 필요합니다.\n",
      "\u001b[1;31m다음 명령어를 실행하여 Python 환경에 'ipykernel'을(를) 설치합니다. \n",
      "\u001b[1;31m 명령: '/opt/homebrew/bin/python3 -m pip install ipykernel -U --user --force-reinstall'"
     ]
    }
   ],
   "source": [
    "pip install selenium\n",
    "pip install kpykernel"
   ]
  },
  {
   "cell_type": "code",
   "execution_count": null,
   "id": "3c7c7952-6c61-4159-bf07-ecb7728dc0f7",
   "metadata": {},
   "outputs": [],
   "source": [
    "from konlpy.tag import Twitter\n",
    "twitter = Twitter()"
   ]
  },
  {
   "cell_type": "code",
   "execution_count": null,
   "id": "c5c13e95-2fff-4232-90f5-c11c1a20a263",
   "metadata": {},
   "outputs": [],
   "source": [
    "twitter.morphs('안녕하세요, 신동은 입니다.')"
   ]
  },
  {
   "cell_type": "markdown",
   "id": "c0600d32-7901-4a09-8540-c0d8083b4877",
   "metadata": {},
   "source": [
    "## Idius 리뷰 수집"
   ]
  },
  {
   "cell_type": "code",
   "execution_count": 23,
   "id": "7028353e-c457-4d0d-b2e3-a0fc416b8c86",
   "metadata": {},
   "outputs": [],
   "source": [
    "# selenium의 webdriver를 사용하기 위한 import\n",
    "from selenium import webdriver\n",
    "\n",
    "# selenium으로 무엇인가 입력하기 위한 import\n",
    "from selenium.webdriver.common.keys import Keys\n",
    "\n",
    "# 페이지 로딩을 기다리는데에 사용할 time 모듈 import\n",
    "import time\n",
    "\n",
    "# 크롬드라이버 실행\n",
    "driver = webdriver.Chrome() \n",
    "\n",
    "#크롬 드라이버에 url 주소 넣고 실행\n",
    "driver.get('https://www.idus.com/v2/product/1457a4bf-bece-4d9a-bff3-3312511c986e')\n",
    "\n",
    "# 페이지가 완전히 로딩되도록 3초동안 기다림\n",
    "time.sleep(3)"
   ]
  },
  {
   "cell_type": "code",
   "execution_count": null,
   "id": "3d7e8218-f636-4cd2-a625-e8e142cf4ea9",
   "metadata": {},
   "outputs": [],
   "source": [
    "Keys.PAGE_DOWN\n",
    "# 검색어 창을 찾아 search 변수에 저장 (By.CLASS_NAME 방식)\n",
    "search_box = driver.find_element(By.CLASS_NAME, 'ReviewListItem')\n",
    "\n",
    "# 검색어 창을 찾아 search 변수에 저장 (By.XPATH 방식)\n",
    "search_box = driver.find_element_by_xpath('//*[@id=\"google_search\"]')"
   ]
  },
  {
   "cell_type": "code",
   "execution_count": null,
   "id": "10628649-4c30-45dd-b165-046ea8f48518",
   "metadata": {},
   "outputs": [],
   "source": []
  }
 ],
 "metadata": {
  "kernelspec": {
   "display_name": "Python 3 (ipykernel)",
   "language": "python",
   "name": "python3"
  },
  "language_info": {
   "codemirror_mode": {
    "name": "ipython",
    "version": 3
   },
   "file_extension": ".py",
   "mimetype": "text/x-python",
   "name": "python",
   "nbconvert_exporter": "python",
   "pygments_lexer": "ipython3",
   "version": "3.13.0"
  }
 },
 "nbformat": 4,
 "nbformat_minor": 5
}
